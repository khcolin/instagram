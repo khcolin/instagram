{
  "nbformat": 4,
  "nbformat_minor": 0,
  "metadata": {
    "colab": {
      "provenance": [],
      "authorship_tag": "ABX9TyPOhySxnZuyUh4EXlnx9HoH",
      "include_colab_link": true
    },
    "kernelspec": {
      "name": "python3",
      "display_name": "Python 3"
    },
    "language_info": {
      "name": "python"
    }
  },
  "cells": [
    {
      "cell_type": "markdown",
      "metadata": {
        "id": "view-in-github",
        "colab_type": "text"
      },
      "source": [
        "<a href=\"https://colab.research.google.com/github/khcolin/instagram/blob/master/Untitled4.ipynb\" target=\"_parent\"><img src=\"https://colab.research.google.com/assets/colab-badge.svg\" alt=\"Open In Colab\"/></a>"
      ]
    },
    {
      "cell_type": "code",
      "execution_count": 1,
      "metadata": {
        "colab": {
          "base_uri": "https://localhost:8080/"
        },
        "id": "hdhAlx2iXCiX",
        "outputId": "8e9582d2-6f98-451b-e3c1-cff1bb8b8431"
      },
      "outputs": [
        {
          "output_type": "stream",
          "name": "stdout",
          "text": [
            "881120\n",
            "1068234\n"
          ]
        }
      ],
      "source": [
        "#2-1.\n",
        "num = \"881120-1068234\"\n",
        "#다음 코드 부분을 완성해 보세요.\n",
        "date = num[0:6]          #생년월일 슬라이싱\n",
        "id_num = num[7:14]        # 뒤의 숫자 부분 슬라이싱\n",
        "print(date)\n",
        "print(id_num)"
      ]
    },
    {
      "cell_type": "code",
      "source": [
        "#2-2.\n",
        "pin = '881120-1068234'\n",
        "# 다음 코드를 완성하세요.\n",
        "key_1 =pin[7]  #성별 부분 인덱싱\n",
        "print(key_1)"
      ],
      "metadata": {
        "colab": {
          "base_uri": "https://localhost:8080/"
        },
        "id": "kqpkBgI4XDJU",
        "outputId": "ed343d29-90e6-46e0-bf54-a0ddd49688cb"
      },
      "execution_count": 2,
      "outputs": [
        {
          "output_type": "stream",
          "name": "stdout",
          "text": [
            "1\n"
          ]
        }
      ]
    },
    {
      "cell_type": "code",
      "source": [
        "# 다음 코드를 완성하여라. if 다음을 완성하시오.\n",
        "if  key_1==\"2\"     :\n",
        "    print(\"홍길동씨는 여성입니다.\")\n",
        "else :\n",
        "    print(\"홍길동씨는 남성입니다.\")"
      ],
      "metadata": {
        "colab": {
          "base_uri": "https://localhost:8080/"
        },
        "id": "WzCE0ho-XDL6",
        "outputId": "d9673071-7ac6-4f19-d264-2bb0773abc0d"
      },
      "execution_count": 3,
      "outputs": [
        {
          "output_type": "stream",
          "name": "stdout",
          "text": [
            "홍길동씨는 남성입니다.\n"
          ]
        }
      ]
    },
    {
      "cell_type": "code",
      "source": [
        "#2-3.\n",
        "#다음 코드를 완성하시오.\n",
        "char_1 = \"a:b:c:d\"\n",
        "char_1.replace(\":\",\"#\"    )           #replace는 괄호안에 ('문자열1', '문자열2')와 같이 써서 문자열1을 문자열2로 바꾼다."
      ],
      "metadata": {
        "colab": {
          "base_uri": "https://localhost:8080/",
          "height": 35
        },
        "id": "JpiE-Kq6XDOQ",
        "outputId": "7f98bccd-fb37-40f2-d4a3-253694a0f768"
      },
      "execution_count": 4,
      "outputs": [
        {
          "output_type": "execute_result",
          "data": {
            "text/plain": [
              "'a#b#c#d'"
            ],
            "application/vnd.google.colaboratory.intrinsic+json": {
              "type": "string"
            }
          },
          "metadata": {},
          "execution_count": 4
        }
      ]
    },
    {
      "cell_type": "code",
      "source": [
        "# 코드를 완성하세요.\n",
        "char_2 = char_1.split(':')  # 문자열.split(나누는 기준)\n",
        "print(char_2)\n",
        "char_3 = \"#\".join(char_2)            #문자열.join(리스트명)\n",
        "char_3"
      ],
      "metadata": {
        "colab": {
          "base_uri": "https://localhost:8080/",
          "height": 53
        },
        "id": "0N0B8FpzXDQi",
        "outputId": "e37dd814-d0ee-4ecb-e67d-15b904cb39c4"
      },
      "execution_count": 8,
      "outputs": [
        {
          "output_type": "stream",
          "name": "stdout",
          "text": [
            "['a', 'b', 'c', 'd']\n"
          ]
        },
        {
          "output_type": "execute_result",
          "data": {
            "text/plain": [
              "'a#b#c#d'"
            ],
            "application/vnd.google.colaboratory.intrinsic+json": {
              "type": "string"
            }
          },
          "metadata": {},
          "execution_count": 8
        }
      ]
    },
    {
      "cell_type": "code",
      "source": [
        "#2-4.\n",
        "# 다음 코드를 완성하시오.\n",
        "fah = [70, 55, 45, 40, 37, 32, 20, 18, 20]\n",
        "ind_1 = int(input(\"몇번을 섭씨로 바꿀까요?\"))\n",
        "celci = 5/9 *( fah[ind_1]-32  )\n",
        "print(f'{ind_1} 번 화씨를 섭씨로 바꾸면 {celci :.4f}')"
      ],
      "metadata": {
        "colab": {
          "base_uri": "https://localhost:8080/"
        },
        "id": "pCJCoRR7XDS4",
        "outputId": "1747e4d0-ffea-4e9d-ecc3-e8d8c2b46453"
      },
      "execution_count": 9,
      "outputs": [
        {
          "output_type": "stream",
          "name": "stdout",
          "text": [
            "몇번을 섭씨로 바꿀까요?0\n",
            "0 번 화씨를 섭씨로 바꾸면 21.1111\n"
          ]
        }
      ]
    },
    {
      "cell_type": "code",
      "source": [
        "#2-5.\n",
        "cha = ['Life', 'is', 'too', 'short']\n",
        "#다음을 완성하시오. join 함수를 사용하세요.\n",
        "print(\" \".join(cha)     )"
      ],
      "metadata": {
        "colab": {
          "base_uri": "https://localhost:8080/"
        },
        "id": "jSaw2kKsXDVf",
        "outputId": "5425a258-a617-4bd2-e4ae-33cdf6dfcde2"
      },
      "execution_count": 10,
      "outputs": [
        {
          "output_type": "stream",
          "name": "stdout",
          "text": [
            "Life is too short\n"
          ]
        }
      ]
    },
    {
      "cell_type": "code",
      "source": [
        "#2-6.\n",
        "a = [1, 3, 5, 4, 2]\n",
        "#다음을 완성하시오.\n",
        "a.sort()\n",
        "a.reverse()\n",
        "print(a)\n"
      ],
      "metadata": {
        "colab": {
          "base_uri": "https://localhost:8080/"
        },
        "id": "sNjMFMIRXDX0",
        "outputId": "c95e5aae-f8b8-4358-e142-0baaba0e1aa4"
      },
      "execution_count": 18,
      "outputs": [
        {
          "output_type": "stream",
          "name": "stdout",
          "text": [
            "[5, 4, 3, 2, 1]\n"
          ]
        }
      ]
    },
    {
      "cell_type": "code",
      "source": [
        "#2-7.\n",
        "tuple_1 = (1, 2, 3)\n",
        "# 아래에 코드를 완성하시오.\n",
        "tuple_2=(4,)\n",
        "tuple_3=tuple_1+tuple_2\n",
        "print(tuple_3)\n"
      ],
      "metadata": {
        "colab": {
          "base_uri": "https://localhost:8080/"
        },
        "id": "FpPGRM9PXDar",
        "outputId": "c901a367-601e-425f-aa4c-701d51cb5231"
      },
      "execution_count": 27,
      "outputs": [
        {
          "output_type": "stream",
          "name": "stdout",
          "text": [
            "(1, 2, 3, 4)\n"
          ]
        }
      ]
    },
    {
      "cell_type": "markdown",
      "source": [],
      "metadata": {
        "id": "W07jlUiclphK"
      }
    }
  ]
}